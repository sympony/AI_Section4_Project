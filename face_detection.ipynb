{
  "nbformat": 4,
  "nbformat_minor": 0,
  "metadata": {
    "colab": {
      "name": "face_detection.ipynb",
      "provenance": [],
      "collapsed_sections": [],
      "mount_file_id": "1GkPPLuDTsd9uevPHqP-4tGvACvnSOpOj",
      "authorship_tag": "ABX9TyPcShlKorqdoS6A6ltO6gZl",
      "include_colab_link": true
    },
    "kernelspec": {
      "name": "python3",
      "display_name": "Python 3"
    },
    "language_info": {
      "name": "python"
    }
  },
  "cells": [
    {
      "cell_type": "markdown",
      "metadata": {
        "id": "view-in-github",
        "colab_type": "text"
      },
      "source": [
        "<a href=\"https://colab.research.google.com/github/sympony/Webtoon-StyleGAN/blob/main/face_detection.ipynb\" target=\"_parent\"><img src=\"https://colab.research.google.com/assets/colab-badge.svg\" alt=\"Open In Colab\"/></a>"
      ]
    },
    {
      "cell_type": "code",
      "source": [
        "!wget https://raw.githubusercontent.com/nagadomi/lbpcascade_animeface/master/lbpcascade_animeface.xml"
      ],
      "metadata": {
        "colab": {
          "base_uri": "https://localhost:8080/"
        },
        "id": "A_ZmpFKRow3c",
        "outputId": "b187674f-b1e8-4cf8-bfd5-597825d249f6"
      },
      "execution_count": 1,
      "outputs": [
        {
          "output_type": "stream",
          "name": "stdout",
          "text": [
            "--2022-01-12 09:34:19--  https://raw.githubusercontent.com/nagadomi/lbpcascade_animeface/master/lbpcascade_animeface.xml\n",
            "Resolving raw.githubusercontent.com (raw.githubusercontent.com)... 185.199.108.133, 185.199.109.133, 185.199.111.133, ...\n",
            "Connecting to raw.githubusercontent.com (raw.githubusercontent.com)|185.199.108.133|:443... connected.\n",
            "HTTP request sent, awaiting response... 200 OK\n",
            "Length: 246945 (241K) [text/plain]\n",
            "Saving to: ‘lbpcascade_animeface.xml’\n",
            "\n",
            "\rlbpcascade_animefac   0%[                    ]       0  --.-KB/s               \rlbpcascade_animefac 100%[===================>] 241.16K  --.-KB/s    in 0.03s   \n",
            "\n",
            "2022-01-12 09:34:19 (9.38 MB/s) - ‘lbpcascade_animeface.xml’ saved [246945/246945]\n",
            "\n"
          ]
        }
      ]
    },
    {
      "cell_type": "code",
      "source": [
        "import os \n",
        "\n",
        "# 디렉토리\n",
        "root_dir = '/content/drive/MyDrive/Project/Section4/은주의 방 2~3부'\n",
        "\n",
        "img_path_list =[]\n",
        "pos_img_extension = ['.jpg', '.jpeg', '.JPG', '.bmp', '.png'] # 이미지 확장자\n",
        "\n",
        "for (root, dirs, files) in os.walk(root_dir):\n",
        "  if len(files) > 0:\n",
        "    for file_name in files:\n",
        "      if os.path.splitext(file_name)[1] in pos_img_extension:\n",
        "        img_path = root + '/' + file_name\n",
        "\n",
        "        # \\ replace /\n",
        "        # img_path = img_path.replace('\\\\', '/')\n",
        "        img_path_list.append(img_path)"
      ],
      "metadata": {
        "colab": {
          "base_uri": "https://localhost:8080/"
        },
        "id": "R8Srhdyko86X",
        "outputId": "412df546-7390-4696-bda7-7e2bc96511ac"
      },
      "execution_count": 6,
      "outputs": [
        {
          "output_type": "execute_result",
          "data": {
            "text/plain": [
              "['/content/drive/MyDrive/Project/Section4/은주의 방 2~3부/3부200화/1.jpg',\n",
              " '/content/drive/MyDrive/Project/Section4/은주의 방 2~3부/3부200화/2.jpg',\n",
              " '/content/drive/MyDrive/Project/Section4/은주의 방 2~3부/3부200화/3.jpg',\n",
              " '/content/drive/MyDrive/Project/Section4/은주의 방 2~3부/3부200화/4.jpg',\n",
              " '/content/drive/MyDrive/Project/Section4/은주의 방 2~3부/3부200화/5.jpg',\n",
              " '/content/drive/MyDrive/Project/Section4/은주의 방 2~3부/3부200화/6.jpg',\n",
              " '/content/drive/MyDrive/Project/Section4/은주의 방 2~3부/3부200화/7.jpg',\n",
              " '/content/drive/MyDrive/Project/Section4/은주의 방 2~3부/3부200화/8.jpg',\n",
              " '/content/drive/MyDrive/Project/Section4/은주의 방 2~3부/3부200화/9.jpg',\n",
              " '/content/drive/MyDrive/Project/Section4/은주의 방 2~3부/3부200화/10.jpg',\n",
              " '/content/drive/MyDrive/Project/Section4/은주의 방 2~3부/3부200화/11.jpg',\n",
              " '/content/drive/MyDrive/Project/Section4/은주의 방 2~3부/3부200화/12.jpg',\n",
              " '/content/drive/MyDrive/Project/Section4/은주의 방 2~3부/3부200화/13.jpg',\n",
              " '/content/drive/MyDrive/Project/Section4/은주의 방 2~3부/3부200화/14.jpg',\n",
              " '/content/drive/MyDrive/Project/Section4/은주의 방 2~3부/3부200화/15.jpg',\n",
              " '/content/drive/MyDrive/Project/Section4/은주의 방 2~3부/3부200화/16.jpg',\n",
              " '/content/drive/MyDrive/Project/Section4/은주의 방 2~3부/3부200화/17.jpg',\n",
              " '/content/drive/MyDrive/Project/Section4/은주의 방 2~3부/3부200화/18.jpg',\n",
              " '/content/drive/MyDrive/Project/Section4/은주의 방 2~3부/3부200화/19.jpg',\n",
              " '/content/drive/MyDrive/Project/Section4/은주의 방 2~3부/3부200화/20.jpg',\n",
              " '/content/drive/MyDrive/Project/Section4/은주의 방 2~3부/3부200화/21.jpg',\n",
              " '/content/drive/MyDrive/Project/Section4/은주의 방 2~3부/3부200화/22.jpg',\n",
              " '/content/drive/MyDrive/Project/Section4/은주의 방 2~3부/3부200화/23.jpg',\n",
              " '/content/drive/MyDrive/Project/Section4/은주의 방 2~3부/3부200화/24.jpg',\n",
              " '/content/drive/MyDrive/Project/Section4/은주의 방 2~3부/3부200화/25.jpg',\n",
              " '/content/drive/MyDrive/Project/Section4/은주의 방 2~3부/3부200화/26.jpg',\n",
              " '/content/drive/MyDrive/Project/Section4/은주의 방 2~3부/3부200화/27.jpg',\n",
              " '/content/drive/MyDrive/Project/Section4/은주의 방 2~3부/3부200화/28.jpg',\n",
              " '/content/drive/MyDrive/Project/Section4/은주의 방 2~3부/3부200화/29.jpg',\n",
              " '/content/drive/MyDrive/Project/Section4/은주의 방 2~3부/3부200화/30.jpg',\n",
              " '/content/drive/MyDrive/Project/Section4/은주의 방 2~3부/3부200화/31.jpg',\n",
              " '/content/drive/MyDrive/Project/Section4/은주의 방 2~3부/3부200화/32.jpg',\n",
              " '/content/drive/MyDrive/Project/Section4/은주의 방 2~3부/3부200화/33.jpg',\n",
              " '/content/drive/MyDrive/Project/Section4/은주의 방 2~3부/3부200화/34.jpg',\n",
              " '/content/drive/MyDrive/Project/Section4/은주의 방 2~3부/3부200화/35.jpg',\n",
              " '/content/drive/MyDrive/Project/Section4/은주의 방 2~3부/3부200화/36.jpg',\n",
              " '/content/drive/MyDrive/Project/Section4/은주의 방 2~3부/3부200화/37.jpg',\n",
              " '/content/drive/MyDrive/Project/Section4/은주의 방 2~3부/3부200화/38.jpg',\n",
              " '/content/drive/MyDrive/Project/Section4/은주의 방 2~3부/3부200화/39.jpg',\n",
              " '/content/drive/MyDrive/Project/Section4/은주의 방 2~3부/3부200화/40.jpg',\n",
              " '/content/drive/MyDrive/Project/Section4/은주의 방 2~3부/3부200화/41.jpg',\n",
              " '/content/drive/MyDrive/Project/Section4/은주의 방 2~3부/3부200화/42.jpg',\n",
              " '/content/drive/MyDrive/Project/Section4/은주의 방 2~3부/3부200화/43.jpg',\n",
              " '/content/drive/MyDrive/Project/Section4/은주의 방 2~3부/3부200화/44.jpg',\n",
              " '/content/drive/MyDrive/Project/Section4/은주의 방 2~3부/3부200화/45.jpg',\n",
              " '/content/drive/MyDrive/Project/Section4/은주의 방 2~3부/3부200화/46.jpg',\n",
              " '/content/drive/MyDrive/Project/Section4/은주의 방 2~3부/3부200화/47.jpg',\n",
              " '/content/drive/MyDrive/Project/Section4/은주의 방 2~3부/3부200화/48.jpg',\n",
              " '/content/drive/MyDrive/Project/Section4/은주의 방 2~3부/3부200화/49.jpg',\n",
              " '/content/drive/MyDrive/Project/Section4/은주의 방 2~3부/3부200화/50.jpg',\n",
              " '/content/drive/MyDrive/Project/Section4/은주의 방 2~3부/3부200화/51.jpg',\n",
              " '/content/drive/MyDrive/Project/Section4/은주의 방 2~3부/3부200화/52.jpg',\n",
              " '/content/drive/MyDrive/Project/Section4/은주의 방 2~3부/3부200화/53.jpg',\n",
              " '/content/drive/MyDrive/Project/Section4/은주의 방 2~3부/3부200화/54.jpg',\n",
              " '/content/drive/MyDrive/Project/Section4/은주의 방 2~3부/3부200화/55.jpg',\n",
              " '/content/drive/MyDrive/Project/Section4/은주의 방 2~3부/3부200화/56.jpg',\n",
              " '/content/drive/MyDrive/Project/Section4/은주의 방 2~3부/3부200화/57.jpg',\n",
              " '/content/drive/MyDrive/Project/Section4/은주의 방 2~3부/3부200화/58.jpg',\n",
              " '/content/drive/MyDrive/Project/Section4/은주의 방 2~3부/3부200화/59.jpg',\n",
              " '/content/drive/MyDrive/Project/Section4/은주의 방 2~3부/3부200화/60.jpg',\n",
              " '/content/drive/MyDrive/Project/Section4/은주의 방 2~3부/3부200화/61.jpg',\n",
              " '/content/drive/MyDrive/Project/Section4/은주의 방 2~3부/3부200화/62.jpg',\n",
              " '/content/drive/MyDrive/Project/Section4/은주의 방 2~3부/3부200화/63.jpg',\n",
              " '/content/drive/MyDrive/Project/Section4/은주의 방 2~3부/3부200화/64.jpg',\n",
              " '/content/drive/MyDrive/Project/Section4/은주의 방 2~3부/3부200화/65.jpg',\n",
              " '/content/drive/MyDrive/Project/Section4/은주의 방 2~3부/3부199화/1.jpg',\n",
              " '/content/drive/MyDrive/Project/Section4/은주의 방 2~3부/3부199화/2.jpg',\n",
              " '/content/drive/MyDrive/Project/Section4/은주의 방 2~3부/3부199화/3.jpg',\n",
              " '/content/drive/MyDrive/Project/Section4/은주의 방 2~3부/3부199화/4.jpg',\n",
              " '/content/drive/MyDrive/Project/Section4/은주의 방 2~3부/3부199화/5.jpg']"
            ]
          },
          "metadata": {},
          "execution_count": 6
        }
      ]
    },
    {
      "cell_type": "code",
      "source": [
        "import cv2\n",
        "\n",
        "%cd /content/drive/MyDrive/Project/Section4/\n",
        "\n",
        "output_dir = 'faces'\n",
        "if not os.path.exists(output_dir):\n",
        "    os.makedirs(output_dir)\n",
        "\n",
        "classifier = cv2.CascadeClassifier('/content/lbpcascade_animeface.xml')\n",
        "\n",
        "tag = 0\n",
        "\n",
        "# 이미지에서 얼굴이 있는 image 추출\n",
        "for path in img_path_list:\n",
        "  image = cv2.imread(path)\n",
        "\n",
        "  gray_image = cv2.cvtColor(image, cv2.COLOR_BGR2GRAY)\n",
        "  faces = classifier.detectMultiScale(gray_image, minSize=(128, 128))\n",
        "\n",
        "  if (tag == 0) & (os.path.isfile('/content/drive/MyDrive/faces/0.jpg')==False):  \n",
        "    for i, (x,y,w,h) in enumerate(faces):\n",
        "      #Cut out the face one by one\n",
        "      face_image = image[y:y+h, x:x+w]\n",
        "      output_path = os.path.join(output_dir,'{0}.jpg'.format(tag+i))\n",
        "      cv2.imwrite(output_path,face_image)\n",
        "    tag = tag + len(faces) - 1\n",
        "  else :\n",
        "    for i, (x,y,w,h) in enumerate(faces):\n",
        "      #Cut out the face one by one\n",
        "      face_image = image[y:y+h, x:x+w]\n",
        "      output_path = os.path.join(output_dir,'{0}.jpg'.format(tag+i+1))\n",
        "      cv2.imwrite(output_path,face_image)\n",
        "    tag = tag + len(faces)"
      ],
      "metadata": {
        "colab": {
          "base_uri": "https://localhost:8080/"
        },
        "id": "t-btf8hNYYMQ",
        "outputId": "9a9f08a2-061f-479d-9d8c-50873e0723a1"
      },
      "execution_count": 45,
      "outputs": [
        {
          "output_type": "stream",
          "name": "stdout",
          "text": [
            "/content/drive/MyDrive/Project/Section4\n"
          ]
        }
      ]
    }
  ]
}